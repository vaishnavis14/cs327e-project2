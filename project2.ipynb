{
 "cells": [
  {
   "cell_type": "code",
   "execution_count": 70,
   "id": "33a77c59-9acb-4615-920a-d30f6bd2575d",
   "metadata": {
    "tags": []
   },
   "outputs": [
    {
     "name": "stdout",
     "output_type": "stream",
     "text": [
      "env: PGDATABASE=postgres\n",
      "env: PGHOST=10.106.80.12\n",
      "env: PGPORT=5432\n",
      "env: PGUSER=postgres\n",
      "env: PGPASSWORD=Earth@1234\n"
     ]
    }
   ],
   "source": [
    "%env PGDATABASE=postgres\n",
    "%env PGHOST=10.106.80.12\n",
    "%env PGPORT=5432\n",
    "%env PGUSER=postgres\n",
    "%env PGPASSWORD=Earth@1234"
   ]
  },
  {
   "cell_type": "code",
   "execution_count": null,
   "id": "d5c59393-e558-4fe2-ac3e-dd7500306952",
   "metadata": {
    "tags": []
   },
   "outputs": [],
   "source": [
    "!psql < /home/jupyter/pagila/pagila-schema.sql"
   ]
  },
  {
   "cell_type": "code",
   "execution_count": null,
   "id": "1b54b0f4-4042-45d6-bc4b-5425895f51b9",
   "metadata": {
    "tags": []
   },
   "outputs": [],
   "source": [
    "!psql < /home/jupyter/pagila/pagila-insert-data.sql"
   ]
  },
  {
   "cell_type": "code",
   "execution_count": 73,
   "id": "acdf470e-e3ed-4958-9f0e-0cfcd66f0969",
   "metadata": {
    "tags": []
   },
   "outputs": [
    {
     "name": "stdout",
     "output_type": "stream",
     "text": [
      "/home/jupyter\n"
     ]
    }
   ],
   "source": [
    "!pwd"
   ]
  },
  {
   "cell_type": "code",
   "execution_count": 74,
   "id": "f6183d7e-806a-4410-a99d-d72a50a2ccec",
   "metadata": {},
   "outputs": [
    {
     "name": "stdout",
     "output_type": "stream",
     "text": [
      "             List of relations\n",
      " Schema |     Name      | Type  |  Owner   \n",
      "--------+---------------+-------+----------\n",
      " pagila | actor         | table | postgres\n",
      " pagila | address       | table | postgres\n",
      " pagila | category      | table | postgres\n",
      " pagila | city          | table | postgres\n",
      " pagila | country       | table | postgres\n",
      " pagila | customer      | table | postgres\n",
      " pagila | film          | table | postgres\n",
      " pagila | film_actor    | table | postgres\n",
      " pagila | film_category | table | postgres\n",
      " pagila | inventory     | table | postgres\n",
      " pagila | language      | table | postgres\n",
      " pagila | payment       | table | postgres\n",
      " pagila | rental        | table | postgres\n",
      " pagila | staff         | table | postgres\n",
      " pagila | store         | table | postgres\n",
      "(15 rows)\n",
      "\n"
     ]
    }
   ],
   "source": [
    "!psql -c \"\\dt pagila.*\""
   ]
  },
  {
   "cell_type": "code",
   "execution_count": 75,
   "id": "9ec55473-4dd5-4b05-8972-3861f70a5281",
   "metadata": {
    "tags": []
   },
   "outputs": [
    {
     "name": "stdout",
     "output_type": "stream",
     "text": [
      "                                              Table \"pagila.actor\"\n",
      "   Column    |           Type           | Collation | Nullable |                    Default                     \n",
      "-------------+--------------------------+-----------+----------+------------------------------------------------\n",
      " actor_id    | integer                  |           | not null | nextval('pagila.actor_actor_id_seq'::regclass)\n",
      " first_name  | text                     |           | not null | \n",
      " last_name   | text                     |           | not null | \n",
      " last_update | timestamp with time zone |           | not null | now()\n",
      "Indexes:\n",
      "    \"actor_pkey\" PRIMARY KEY, btree (actor_id)\n",
      "    \"idx_actor_last_name\" btree (last_name)\n",
      "Referenced by:\n",
      "    TABLE \"pagila.film_actor\" CONSTRAINT \"film_actor_actor_id_fkey\" FOREIGN KEY (actor_id) REFERENCES pagila.actor(actor_id) ON UPDATE CASCADE ON DELETE RESTRICT\n",
      "Triggers:\n",
      "    last_updated BEFORE UPDATE ON pagila.actor FOR EACH ROW EXECUTE FUNCTION pagila.last_updated()\n",
      "\n"
     ]
    }
   ],
   "source": [
    "!psql -c \"\\d pagila.actor\""
   ]
  },
  {
   "cell_type": "code",
   "execution_count": 76,
   "id": "12babac4-7e4a-444f-bfe9-cb310d368df9",
   "metadata": {
    "tags": []
   },
   "outputs": [
    {
     "name": "stdout",
     "output_type": "stream",
     "text": [
      "                                               Table \"pagila.address\"\n",
      "   Column    |           Type           | Collation | Nullable |                      Default                       \n",
      "-------------+--------------------------+-----------+----------+----------------------------------------------------\n",
      " address_id  | integer                  |           | not null | nextval('pagila.address_address_id_seq'::regclass)\n",
      " address     | text                     |           | not null | \n",
      " address2    | text                     |           |          | \n",
      " district    | text                     |           | not null | \n",
      " city_id     | smallint                 |           | not null | \n",
      " postal_code | text                     |           |          | \n",
      " phone       | text                     |           | not null | \n",
      " last_update | timestamp with time zone |           | not null | now()\n",
      "Indexes:\n",
      "    \"address_pkey\" PRIMARY KEY, btree (address_id)\n",
      "    \"idx_fk_city_id\" btree (city_id)\n",
      "Foreign-key constraints:\n",
      "    \"address_city_id_fkey\" FOREIGN KEY (city_id) REFERENCES pagila.city(city_id) ON UPDATE CASCADE ON DELETE RESTRICT\n",
      "Referenced by:\n",
      "    TABLE \"pagila.customer\" CONSTRAINT \"customer_address_id_fkey\" FOREIGN KEY (address_id) REFERENCES pagila.address(address_id) ON UPDATE CASCADE ON DELETE RESTRICT\n",
      "    TABLE \"pagila.staff\" CONSTRAINT \"staff_address_id_fkey\" FOREIGN KEY (address_id) REFERENCES pagila.address(address_id) ON UPDATE CASCADE ON DELETE RESTRICT\n",
      "    TABLE \"pagila.store\" CONSTRAINT \"store_address_id_fkey\" FOREIGN KEY (address_id) REFERENCES pagila.address(address_id) ON UPDATE CASCADE ON DELETE RESTRICT\n",
      "Triggers:\n",
      "    last_updated BEFORE UPDATE ON pagila.address FOR EACH ROW EXECUTE FUNCTION pagila.last_updated()\n",
      "\n"
     ]
    }
   ],
   "source": [
    "!psql -c \"\\d pagila.address\""
   ]
  },
  {
   "cell_type": "code",
   "execution_count": 77,
   "id": "5f42e4b7-8dd1-4e8f-9f60-aa59c7bdf231",
   "metadata": {
    "tags": []
   },
   "outputs": [
    {
     "name": "stdout",
     "output_type": "stream",
     "text": [
      "                                               Table \"pagila.category\"\n",
      "   Column    |           Type           | Collation | Nullable |                       Default                        \n",
      "-------------+--------------------------+-----------+----------+------------------------------------------------------\n",
      " category_id | integer                  |           | not null | nextval('pagila.category_category_id_seq'::regclass)\n",
      " name        | text                     |           | not null | \n",
      " last_update | timestamp with time zone |           | not null | now()\n",
      "Indexes:\n",
      "    \"category_pkey\" PRIMARY KEY, btree (category_id)\n",
      "Referenced by:\n",
      "    TABLE \"pagila.film_category\" CONSTRAINT \"film_category_category_id_fkey\" FOREIGN KEY (category_id) REFERENCES pagila.category(category_id) ON UPDATE CASCADE ON DELETE RESTRICT\n",
      "Triggers:\n",
      "    last_updated BEFORE UPDATE ON pagila.category FOR EACH ROW EXECUTE FUNCTION pagila.last_updated()\n",
      "\n"
     ]
    }
   ],
   "source": [
    "!psql -c \"\\d pagila.category\""
   ]
  },
  {
   "cell_type": "code",
   "execution_count": 78,
   "id": "daad5be6-384b-4e70-b50f-78c80565dd0c",
   "metadata": {
    "tags": []
   },
   "outputs": [
    {
     "name": "stdout",
     "output_type": "stream",
     "text": [
      "                                             Table \"pagila.city\"\n",
      "   Column    |           Type           | Collation | Nullable |                   Default                    \n",
      "-------------+--------------------------+-----------+----------+----------------------------------------------\n",
      " city_id     | integer                  |           | not null | nextval('pagila.city_city_id_seq'::regclass)\n",
      " city        | text                     |           | not null | \n",
      " country_id  | smallint                 |           | not null | \n",
      " last_update | timestamp with time zone |           | not null | now()\n",
      "Indexes:\n",
      "    \"city_pkey\" PRIMARY KEY, btree (city_id)\n",
      "    \"idx_fk_country_id\" btree (country_id)\n",
      "Foreign-key constraints:\n",
      "    \"city_country_id_fkey\" FOREIGN KEY (country_id) REFERENCES pagila.country(country_id) ON UPDATE CASCADE ON DELETE RESTRICT\n",
      "Referenced by:\n",
      "    TABLE \"pagila.address\" CONSTRAINT \"address_city_id_fkey\" FOREIGN KEY (city_id) REFERENCES pagila.city(city_id) ON UPDATE CASCADE ON DELETE RESTRICT\n",
      "Triggers:\n",
      "    last_updated BEFORE UPDATE ON pagila.city FOR EACH ROW EXECUTE FUNCTION pagila.last_updated()\n",
      "\n"
     ]
    }
   ],
   "source": [
    "!psql -c \"\\d pagila.city\""
   ]
  },
  {
   "cell_type": "code",
   "execution_count": 79,
   "id": "a779f68b-b657-4152-97e8-099f9b9d11d9",
   "metadata": {
    "tags": []
   },
   "outputs": [
    {
     "name": "stdout",
     "output_type": "stream",
     "text": [
      "                                               Table \"pagila.country\"\n",
      "   Column    |           Type           | Collation | Nullable |                      Default                       \n",
      "-------------+--------------------------+-----------+----------+----------------------------------------------------\n",
      " country_id  | integer                  |           | not null | nextval('pagila.country_country_id_seq'::regclass)\n",
      " country     | text                     |           | not null | \n",
      " last_update | timestamp with time zone |           | not null | now()\n",
      "Indexes:\n",
      "    \"country_pkey\" PRIMARY KEY, btree (country_id)\n",
      "Referenced by:\n",
      "    TABLE \"pagila.city\" CONSTRAINT \"city_country_id_fkey\" FOREIGN KEY (country_id) REFERENCES pagila.country(country_id) ON UPDATE CASCADE ON DELETE RESTRICT\n",
      "Triggers:\n",
      "    last_updated BEFORE UPDATE ON pagila.country FOR EACH ROW EXECUTE FUNCTION pagila.last_updated()\n",
      "\n"
     ]
    }
   ],
   "source": [
    "!psql -c \"\\d pagila.country\""
   ]
  },
  {
   "cell_type": "code",
   "execution_count": 80,
   "id": "e886a276-ddbc-4f55-b11b-a4861e486575",
   "metadata": {
    "tags": []
   },
   "outputs": [
    {
     "name": "stdout",
     "output_type": "stream",
     "text": [
      "                                                Table \"pagila.customer\"\n",
      "   Column    |           Type           | Collation | Nullable |                        Default                        \n",
      "-------------+--------------------------+-----------+----------+-------------------------------------------------------\n",
      " customer_id | integer                  |           | not null | nextval('pagila.customer_customer_id_seq1'::regclass)\n",
      " store_id    | smallint                 |           | not null | \n",
      " first_name  | text                     |           | not null | \n",
      " last_name   | text                     |           | not null | \n",
      " email       | text                     |           |          | \n",
      " address_id  | smallint                 |           | not null | \n",
      " activebool  | boolean                  |           | not null | true\n",
      " create_date | date                     |           | not null | 'now'::text::date\n",
      " last_update | timestamp with time zone |           |          | now()\n",
      " active      | integer                  |           |          | \n",
      "Indexes:\n",
      "    \"customer_pkey\" PRIMARY KEY, btree (customer_id)\n",
      "    \"idx_fk_address_id\" btree (address_id)\n",
      "    \"idx_fk_store_id\" btree (store_id)\n",
      "    \"idx_last_name\" btree (last_name)\n",
      "Foreign-key constraints:\n",
      "    \"customer_address_id_fkey\" FOREIGN KEY (address_id) REFERENCES pagila.address(address_id) ON UPDATE CASCADE ON DELETE RESTRICT\n",
      "    \"customer_store_id_fkey\" FOREIGN KEY (store_id) REFERENCES pagila.store(store_id) ON UPDATE CASCADE ON DELETE RESTRICT\n",
      "Referenced by:\n",
      "    TABLE \"pagila.payment\" CONSTRAINT \"customer_id_fkey\" FOREIGN KEY (customer_id) REFERENCES pagila.customer(customer_id) ON UPDATE CASCADE ON DELETE RESTRICT\n",
      "    TABLE \"pagila.rental\" CONSTRAINT \"rental_customer_id_fkey\" FOREIGN KEY (customer_id) REFERENCES pagila.customer(customer_id) ON UPDATE CASCADE ON DELETE RESTRICT\n",
      "Triggers:\n",
      "    last_updated BEFORE UPDATE ON pagila.customer FOR EACH ROW EXECUTE FUNCTION pagila.last_updated()\n",
      "\n"
     ]
    }
   ],
   "source": [
    "!psql -c \"\\d pagila.customer\""
   ]
  },
  {
   "cell_type": "code",
   "execution_count": 81,
   "id": "a3ed9ca3-166c-47c8-b7f7-f22dadd3c4eb",
   "metadata": {
    "tags": []
   },
   "outputs": [
    {
     "name": "stdout",
     "output_type": "stream",
     "text": [
      "                                                  Table \"pagila.film\"\n",
      "        Column        |           Type           | Collation | Nullable |                   Default                    \n",
      "----------------------+--------------------------+-----------+----------+----------------------------------------------\n",
      " film_id              | integer                  |           | not null | nextval('pagila.film_film_id_seq'::regclass)\n",
      " title                | text                     |           | not null | \n",
      " description          | text                     |           |          | \n",
      " release_year         | pagila.year              |           |          | \n",
      " language_id          | smallint                 |           | not null | \n",
      " original_language_id | smallint                 |           |          | \n",
      " rental_duration      | smallint                 |           | not null | 3\n",
      " rental_rate          | numeric(4,2)             |           | not null | 4.99\n",
      " length               | smallint                 |           |          | \n",
      " replacement_cost     | numeric(5,2)             |           | not null | 19.99\n",
      " rating               | pagila.mpaa_rating       |           |          | 'G'::pagila.mpaa_rating\n",
      " last_update          | timestamp with time zone |           | not null | now()\n",
      " special_features     | text[]                   |           |          | \n",
      " fulltext             | tsvector                 |           | not null | \n",
      "Indexes:\n",
      "    \"film_pkey\" PRIMARY KEY, btree (film_id)\n",
      "    \"film_fulltext_idx\" gist (fulltext)\n",
      "    \"idx_fk_language_id\" btree (language_id)\n",
      "    \"idx_fk_original_language_id\" btree (original_language_id)\n",
      "    \"idx_title\" btree (title)\n",
      "Foreign-key constraints:\n",
      "    \"film_language_id_fkey\" FOREIGN KEY (language_id) REFERENCES pagila.language(language_id) ON UPDATE CASCADE ON DELETE RESTRICT\n",
      "    \"film_original_language_id_fkey\" FOREIGN KEY (original_language_id) REFERENCES pagila.language(language_id) ON UPDATE CASCADE ON DELETE RESTRICT\n",
      "Referenced by:\n",
      "    TABLE \"pagila.film_actor\" CONSTRAINT \"film_actor_film_id_fkey\" FOREIGN KEY (film_id) REFERENCES pagila.film(film_id) ON UPDATE CASCADE ON DELETE RESTRICT\n",
      "    TABLE \"pagila.film_category\" CONSTRAINT \"film_category_film_id_fkey\" FOREIGN KEY (film_id) REFERENCES pagila.film(film_id) ON UPDATE CASCADE ON DELETE RESTRICT\n",
      "    TABLE \"pagila.inventory\" CONSTRAINT \"inventory_film_id_fkey\" FOREIGN KEY (film_id) REFERENCES pagila.film(film_id) ON UPDATE CASCADE ON DELETE RESTRICT\n",
      "Triggers:\n",
      "    film_fulltext_trigger BEFORE INSERT OR UPDATE ON pagila.film FOR EACH ROW EXECUTE FUNCTION tsvector_update_trigger('fulltext', 'pg_catalog.english', 'title', 'description')\n",
      "    last_updated BEFORE UPDATE ON pagila.film FOR EACH ROW EXECUTE FUNCTION pagila.last_updated()\n",
      "\n"
     ]
    }
   ],
   "source": [
    "!psql -c \"\\d pagila.film\""
   ]
  },
  {
   "cell_type": "code",
   "execution_count": 82,
   "id": "6750fd19-0430-4977-8a67-d3b45ffb77ba",
   "metadata": {
    "tags": []
   },
   "outputs": [
    {
     "name": "stdout",
     "output_type": "stream",
     "text": [
      "                        Table \"pagila.film_actor\"\n",
      "   Column    |           Type           | Collation | Nullable | Default \n",
      "-------------+--------------------------+-----------+----------+---------\n",
      " actor_id    | smallint                 |           | not null | \n",
      " film_id     | smallint                 |           | not null | \n",
      " last_update | timestamp with time zone |           | not null | now()\n",
      "Indexes:\n",
      "    \"film_actor_pkey\" PRIMARY KEY, btree (actor_id, film_id)\n",
      "    \"idx_fk_film_id\" btree (film_id)\n",
      "Foreign-key constraints:\n",
      "    \"film_actor_actor_id_fkey\" FOREIGN KEY (actor_id) REFERENCES pagila.actor(actor_id) ON UPDATE CASCADE ON DELETE RESTRICT\n",
      "    \"film_actor_film_id_fkey\" FOREIGN KEY (film_id) REFERENCES pagila.film(film_id) ON UPDATE CASCADE ON DELETE RESTRICT\n",
      "Triggers:\n",
      "    last_updated BEFORE UPDATE ON pagila.film_actor FOR EACH ROW EXECUTE FUNCTION pagila.last_updated()\n",
      "\n"
     ]
    }
   ],
   "source": [
    "!psql -c \"\\d pagila.film_actor\""
   ]
  },
  {
   "cell_type": "code",
   "execution_count": 83,
   "id": "db029078-e560-4cf5-8503-17fb79c7dfa9",
   "metadata": {
    "tags": []
   },
   "outputs": [
    {
     "name": "stdout",
     "output_type": "stream",
     "text": [
      "                      Table \"pagila.film_category\"\n",
      "   Column    |           Type           | Collation | Nullable | Default \n",
      "-------------+--------------------------+-----------+----------+---------\n",
      " film_id     | smallint                 |           | not null | \n",
      " category_id | smallint                 |           | not null | \n",
      " last_update | timestamp with time zone |           | not null | now()\n",
      "Indexes:\n",
      "    \"film_category_pkey\" PRIMARY KEY, btree (film_id, category_id)\n",
      "Foreign-key constraints:\n",
      "    \"film_category_category_id_fkey\" FOREIGN KEY (category_id) REFERENCES pagila.category(category_id) ON UPDATE CASCADE ON DELETE RESTRICT\n",
      "    \"film_category_film_id_fkey\" FOREIGN KEY (film_id) REFERENCES pagila.film(film_id) ON UPDATE CASCADE ON DELETE RESTRICT\n",
      "Triggers:\n",
      "    last_updated BEFORE UPDATE ON pagila.film_category FOR EACH ROW EXECUTE FUNCTION pagila.last_updated()\n",
      "\n"
     ]
    }
   ],
   "source": [
    "!psql -c \"\\d pagila.film_category\""
   ]
  },
  {
   "cell_type": "code",
   "execution_count": null,
   "id": "a218f926-6c78-47af-8ded-a830e4c605d1",
   "metadata": {},
   "outputs": [],
   "source": []
  },
  {
   "cell_type": "code",
   "execution_count": 84,
   "id": "61133b7e-c8ac-47cf-a349-656867d87f7a",
   "metadata": {
    "tags": []
   },
   "outputs": [
    {
     "name": "stdout",
     "output_type": "stream",
     "text": [
      "                                                Table \"pagila.inventory\"\n",
      "    Column    |           Type           | Collation | Nullable |                        Default                         \n",
      "--------------+--------------------------+-----------+----------+--------------------------------------------------------\n",
      " inventory_id | integer                  |           | not null | nextval('pagila.inventory_inventory_id_seq'::regclass)\n",
      " film_id      | smallint                 |           | not null | \n",
      " store_id     | smallint                 |           | not null | \n",
      " last_update  | timestamp with time zone |           | not null | now()\n",
      "Indexes:\n",
      "    \"inventory_pkey\" PRIMARY KEY, btree (inventory_id)\n",
      "    \"idx_store_id_film_id\" btree (store_id, film_id)\n",
      "Foreign-key constraints:\n",
      "    \"inventory_film_id_fkey\" FOREIGN KEY (film_id) REFERENCES pagila.film(film_id) ON UPDATE CASCADE ON DELETE RESTRICT\n",
      "    \"inventory_store_id_fkey\" FOREIGN KEY (store_id) REFERENCES pagila.store(store_id) ON UPDATE CASCADE ON DELETE RESTRICT\n",
      "Referenced by:\n",
      "    TABLE \"pagila.rental\" CONSTRAINT \"rental_inventory_id_fkey\" FOREIGN KEY (inventory_id) REFERENCES pagila.inventory(inventory_id) ON UPDATE CASCADE ON DELETE RESTRICT\n",
      "Triggers:\n",
      "    last_updated BEFORE UPDATE ON pagila.inventory FOR EACH ROW EXECUTE FUNCTION pagila.last_updated()\n",
      "\n"
     ]
    }
   ],
   "source": [
    "!psql -c \"\\d pagila.inventory\""
   ]
  },
  {
   "cell_type": "code",
   "execution_count": 85,
   "id": "67e9c9a3-2db6-4d47-adff-d5fbc2293a4e",
   "metadata": {
    "tags": []
   },
   "outputs": [
    {
     "name": "stdout",
     "output_type": "stream",
     "text": [
      "                                               Table \"pagila.language\"\n",
      "   Column    |           Type           | Collation | Nullable |                       Default                        \n",
      "-------------+--------------------------+-----------+----------+------------------------------------------------------\n",
      " language_id | integer                  |           | not null | nextval('pagila.language_language_id_seq'::regclass)\n",
      " name        | character(20)            |           | not null | \n",
      " last_update | timestamp with time zone |           | not null | now()\n",
      "Indexes:\n",
      "    \"language_pkey\" PRIMARY KEY, btree (language_id)\n",
      "Referenced by:\n",
      "    TABLE \"pagila.film\" CONSTRAINT \"film_language_id_fkey\" FOREIGN KEY (language_id) REFERENCES pagila.language(language_id) ON UPDATE CASCADE ON DELETE RESTRICT\n",
      "    TABLE \"pagila.film\" CONSTRAINT \"film_original_language_id_fkey\" FOREIGN KEY (original_language_id) REFERENCES pagila.language(language_id) ON UPDATE CASCADE ON DELETE RESTRICT\n",
      "Triggers:\n",
      "    last_updated BEFORE UPDATE ON pagila.language FOR EACH ROW EXECUTE FUNCTION pagila.last_updated()\n",
      "\n"
     ]
    }
   ],
   "source": [
    "!psql -c \"\\d pagila.language\""
   ]
  },
  {
   "cell_type": "code",
   "execution_count": 86,
   "id": "5e286943-6cfc-46cc-bfc3-2d6d84d561f6",
   "metadata": {
    "tags": []
   },
   "outputs": [
    {
     "name": "stdout",
     "output_type": "stream",
     "text": [
      "                                               Table \"pagila.payment\"\n",
      "    Column    |           Type           | Collation | Nullable |                      Default                       \n",
      "--------------+--------------------------+-----------+----------+----------------------------------------------------\n",
      " payment_id   | integer                  |           | not null | nextval('pagila.payment_payment_id_seq'::regclass)\n",
      " customer_id  | smallint                 |           | not null | \n",
      " staff_id     | smallint                 |           | not null | \n",
      " rental_id    | integer                  |           | not null | \n",
      " amount       | numeric(5,2)             |           | not null | \n",
      " payment_date | timestamp with time zone |           | not null | \n",
      "Indexes:\n",
      "    \"payment_pkey\" PRIMARY KEY, btree (payment_id)\n",
      "    \"idx_fk_customer_id\" btree (customer_id)\n",
      "    \"idx_fk_staff_id\" btree (staff_id)\n",
      "Foreign-key constraints:\n",
      "    \"customer_id_fkey\" FOREIGN KEY (customer_id) REFERENCES pagila.customer(customer_id) ON UPDATE CASCADE ON DELETE RESTRICT\n",
      "    \"rental_id_fkey\" FOREIGN KEY (rental_id) REFERENCES pagila.rental(rental_id) ON UPDATE CASCADE ON DELETE RESTRICT\n",
      "    \"staff_id_fkey\" FOREIGN KEY (staff_id) REFERENCES pagila.staff(staff_id) ON UPDATE CASCADE ON DELETE RESTRICT\n",
      "\n"
     ]
    }
   ],
   "source": [
    "!psql -c \"\\d pagila.payment\""
   ]
  },
  {
   "cell_type": "code",
   "execution_count": 87,
   "id": "2365cb9a-b935-4f9b-a706-2b9ebe32c4d2",
   "metadata": {
    "tags": []
   },
   "outputs": [
    {
     "name": "stdout",
     "output_type": "stream",
     "text": [
      "                                               Table \"pagila.rental\"\n",
      "    Column    |           Type           | Collation | Nullable |                     Default                      \n",
      "--------------+--------------------------+-----------+----------+--------------------------------------------------\n",
      " rental_id    | integer                  |           | not null | nextval('pagila.rental_rental_id_seq'::regclass)\n",
      " rental_date  | timestamp with time zone |           | not null | \n",
      " inventory_id | integer                  |           | not null | \n",
      " customer_id  | smallint                 |           | not null | \n",
      " return_date  | timestamp with time zone |           |          | \n",
      " staff_id     | smallint                 |           | not null | \n",
      " last_update  | timestamp with time zone |           | not null | now()\n",
      "Indexes:\n",
      "    \"rental_pkey\" PRIMARY KEY, btree (rental_id)\n",
      "    \"idx_fk_inventory_id\" btree (inventory_id)\n",
      "    \"idx_unq_rental_rental_date_inventory_id_customer_id\" UNIQUE, btree (rental_date, inventory_id, customer_id)\n",
      "Foreign-key constraints:\n",
      "    \"rental_customer_id_fkey\" FOREIGN KEY (customer_id) REFERENCES pagila.customer(customer_id) ON UPDATE CASCADE ON DELETE RESTRICT\n",
      "    \"rental_inventory_id_fkey\" FOREIGN KEY (inventory_id) REFERENCES pagila.inventory(inventory_id) ON UPDATE CASCADE ON DELETE RESTRICT\n",
      "    \"rental_staff_id_fkey\" FOREIGN KEY (staff_id) REFERENCES pagila.staff(staff_id) ON UPDATE CASCADE ON DELETE RESTRICT\n",
      "Referenced by:\n",
      "    TABLE \"pagila.payment\" CONSTRAINT \"rental_id_fkey\" FOREIGN KEY (rental_id) REFERENCES pagila.rental(rental_id) ON UPDATE CASCADE ON DELETE RESTRICT\n",
      "Triggers:\n",
      "    last_updated BEFORE UPDATE ON pagila.rental FOR EACH ROW EXECUTE FUNCTION pagila.last_updated()\n",
      "\n"
     ]
    }
   ],
   "source": [
    "!psql -c \"\\d pagila.rental\""
   ]
  },
  {
   "cell_type": "code",
   "execution_count": 88,
   "id": "e45b9b4d-00b0-4ffa-812c-50d11e21c026",
   "metadata": {
    "tags": []
   },
   "outputs": [
    {
     "name": "stdout",
     "output_type": "stream",
     "text": [
      "                                              Table \"pagila.staff\"\n",
      "   Column    |           Type           | Collation | Nullable |                    Default                     \n",
      "-------------+--------------------------+-----------+----------+------------------------------------------------\n",
      " staff_id    | integer                  |           | not null | nextval('pagila.staff_staff_id_seq'::regclass)\n",
      " first_name  | text                     |           | not null | \n",
      " last_name   | text                     |           | not null | \n",
      " address_id  | smallint                 |           | not null | \n",
      " email       | text                     |           |          | \n",
      " store_id    | smallint                 |           | not null | \n",
      " active      | boolean                  |           | not null | true\n",
      " username    | text                     |           | not null | \n",
      " password    | text                     |           |          | \n",
      " last_update | timestamp with time zone |           | not null | now()\n",
      " picture     | bytea                    |           |          | \n",
      "Indexes:\n",
      "    \"staff_pkey\" PRIMARY KEY, btree (staff_id)\n",
      "Foreign-key constraints:\n",
      "    \"staff_address_id_fkey\" FOREIGN KEY (address_id) REFERENCES pagila.address(address_id) ON UPDATE CASCADE ON DELETE RESTRICT\n",
      "    \"staff_store_id_fkey\" FOREIGN KEY (store_id) REFERENCES pagila.store(store_id)\n",
      "Referenced by:\n",
      "    TABLE \"pagila.rental\" CONSTRAINT \"rental_staff_id_fkey\" FOREIGN KEY (staff_id) REFERENCES pagila.staff(staff_id) ON UPDATE CASCADE ON DELETE RESTRICT\n",
      "    TABLE \"pagila.payment\" CONSTRAINT \"staff_id_fkey\" FOREIGN KEY (staff_id) REFERENCES pagila.staff(staff_id) ON UPDATE CASCADE ON DELETE RESTRICT\n",
      "Triggers:\n",
      "    last_updated BEFORE UPDATE ON pagila.staff FOR EACH ROW EXECUTE FUNCTION pagila.last_updated()\n",
      "\n"
     ]
    }
   ],
   "source": [
    "!psql -c \"\\d pagila.staff\""
   ]
  },
  {
   "cell_type": "code",
   "execution_count": null,
   "id": "4709baf7-d657-448b-9797-7f350dda5f38",
   "metadata": {},
   "outputs": [],
   "source": []
  },
  {
   "cell_type": "code",
   "execution_count": 89,
   "id": "ef9ab2a9-8844-445b-8820-b8b7109ec71b",
   "metadata": {},
   "outputs": [
    {
     "name": "stdout",
     "output_type": "stream",
     "text": [
      "                                                Table \"pagila.store\"\n",
      "      Column      |           Type           | Collation | Nullable |                    Default                     \n",
      "------------------+--------------------------+-----------+----------+------------------------------------------------\n",
      " store_id         | integer                  |           | not null | nextval('pagila.store_store_id_seq'::regclass)\n",
      " manager_staff_id | smallint                 |           | not null | \n",
      " address_id       | smallint                 |           | not null | \n",
      " last_update      | timestamp with time zone |           | not null | now()\n",
      "Indexes:\n",
      "    \"store_pkey\" PRIMARY KEY, btree (store_id)\n",
      "    \"idx_unq_manager_staff_id\" UNIQUE, btree (manager_staff_id)\n",
      "Foreign-key constraints:\n",
      "    \"store_address_id_fkey\" FOREIGN KEY (address_id) REFERENCES pagila.address(address_id) ON UPDATE CASCADE ON DELETE RESTRICT\n",
      "Referenced by:\n",
      "    TABLE \"pagila.customer\" CONSTRAINT \"customer_store_id_fkey\" FOREIGN KEY (store_id) REFERENCES pagila.store(store_id) ON UPDATE CASCADE ON DELETE RESTRICT\n",
      "    TABLE \"pagila.inventory\" CONSTRAINT \"inventory_store_id_fkey\" FOREIGN KEY (store_id) REFERENCES pagila.store(store_id) ON UPDATE CASCADE ON DELETE RESTRICT\n",
      "    TABLE \"pagila.staff\" CONSTRAINT \"staff_store_id_fkey\" FOREIGN KEY (store_id) REFERENCES pagila.store(store_id)\n",
      "Triggers:\n",
      "    last_updated BEFORE UPDATE ON pagila.store FOR EACH ROW EXECUTE FUNCTION pagila.last_updated()\n",
      "\n"
     ]
    }
   ],
   "source": [
    "!psql -c \"\\d pagila.store\""
   ]
  },
  {
   "cell_type": "code",
   "execution_count": null,
   "id": "a24db7f1-8a66-449b-96eb-2f4d77428df6",
   "metadata": {},
   "outputs": [],
   "source": []
  },
  {
   "cell_type": "markdown",
   "id": "1579cd50-b899-4795-af12-2bb01514d828",
   "metadata": {},
   "source": [
    "Joins the rental dataset with the customer dataset on the customer_id variable where the store ID from the customer dataset = 2, limits query to first 10 searches after ordering descendingly on rental ID"
   ]
  },
  {
   "cell_type": "code",
   "execution_count": 90,
   "id": "fce0b290-1e32-4e41-bef7-63fabaf9af49",
   "metadata": {
    "tags": []
   },
   "outputs": [
    {
     "name": "stdout",
     "output_type": "stream",
     "text": [
      " customer_id | store_id | first_name | last_name | rental_id |      rental_date       |      return_date       \n",
      "-------------+----------+------------+-----------+-----------+------------------------+------------------------\n",
      "         114 |        2 | GRACE      | ELLIS     |     16047 | 2005-08-23 22:42:48+00 | 2005-08-25 02:48:48+00\n",
      "          14 |        2 | BETTY      | WHITE     |     16045 | 2005-08-23 22:25:26+00 | 2005-08-25 23:54:26+00\n",
      "         526 |        2 | KARL       | SEAL      |     16043 | 2005-08-23 22:21:03+00 | 2005-08-31 03:09:03+00\n",
      "         131 |        2 | MONICA     | HICKS     |     16042 | 2005-08-23 22:20:40+00 | 2005-08-24 17:54:40+00\n",
      "         425 |        2 | FRANCIS    | SIKES     |     16036 | 2005-08-23 22:12:44+00 | 2005-08-25 17:48:44+00\n",
      "         226 |        2 | MAUREEN    | LITTLE    |     16033 | 2005-08-23 22:06:15+00 | 2005-09-01 02:36:15+00\n",
      "         137 |        2 | RHONDA     | KENNEDY   |     16030 | 2005-08-23 21:56:04+00 | 2005-08-31 01:24:04+00\n",
      "         160 |        2 | ERIN       | DUNN      |     16027 | 2005-08-23 21:49:33+00 | 2005-08-30 16:19:33+00\n",
      "         569 |        2 | DAVE       | GARDINER  |     16025 | 2005-08-23 21:48:54+00 | 2005-08-24 22:05:54+00\n",
      "         473 |        2 | JORGE      | OLIVARES  |     16024 | 2005-08-23 21:46:47+00 | 2005-08-27 02:06:47+00\n",
      "(10 rows)\n",
      "\n"
     ]
    }
   ],
   "source": [
    "!psql -c \"SELECT c.customer_id, c.store_id, c.first_name, c.last_name, r.rental_id, r.rental_date, r.return_date FROM pagila.customer c INNER JOIN pagila.rental r ON c.customer_id = r.customer_id WHERE c.store_id = 2 ORDER BY r.rental_id DESC LIMIT 10\""
   ]
  },
  {
   "cell_type": "code",
   "execution_count": null,
   "id": "a1598283-0a13-4d86-8002-464c6a18a744",
   "metadata": {},
   "outputs": [],
   "source": []
  },
  {
   "cell_type": "markdown",
   "id": "ebd7303f-449f-404f-92ec-657bb44237f7",
   "metadata": {},
   "source": [
    "Joins the address dataset with the city dataset on the city_id variable where the city ID from the city dataset is more than 10, limits query to first 10 searches after ordering ascendingly on address_id from address dataset"
   ]
  },
  {
   "cell_type": "code",
   "execution_count": 91,
   "id": "b9fe791b-ca00-481e-b4e6-9fb653139b74",
   "metadata": {},
   "outputs": [
    {
     "name": "stdout",
     "output_type": "stream",
     "text": [
      " city_id |      city      | country_id | address_id |              address               | postal_code \n",
      "---------+----------------+------------+------------+------------------------------------+-------------\n",
      "     300 | Lethbridge     |         20 |          1 | 47 MySakila Drive                  | \n",
      "     300 | Lethbridge     |         20 |          3 | 23 Workhaven Lane                  | \n",
      "     463 | Sasebo         |         50 |          5 | 1913 Hanoi Way                     | 35200\n",
      "     449 | San Bernardino |        103 |          6 | 1121 Loja Avenue                   | 17886\n",
      "      38 | Athenai        |         39 |          7 | 692 Joliet Street                  | 83579\n",
      "     349 | Myingyan       |         64 |          8 | 1566 Inegl Manor                   | 53561\n",
      "     361 | Nantou         |         92 |          9 | 53 Idfu Parkway                    | 42399\n",
      "     295 | Laredo         |        103 |         10 | 1795 Santiago de Compostela Way    | 18743\n",
      "     280 | Kragujevac     |        108 |         11 | 900 Santiago de Compostela Parkway | 93896\n",
      "     200 | Hamilton       |         68 |         12 | 478 Joliet Way                     | 77948\n",
      "(10 rows)\n",
      "\n"
     ]
    }
   ],
   "source": [
    "!psql -c \"SELECT c.city_id, c.city, c.country_id, a.address_id, a.address, a.postal_code FROM pagila.city c INNER JOIN pagila.address a ON c.city_id = a.city_id WHERE c.country_id>10 ORDER BY a.address_id ASC LIMIT 10\""
   ]
  },
  {
   "cell_type": "markdown",
   "id": "1ec595ae-4ce2-4c9b-aa4a-7b43860a4004",
   "metadata": {},
   "source": [
    "Joins the actor dataset to the film actor dataset on actor_id ID and tells the films that have an ID above 10, limited to 10 after ordered ascendingly on film_id variable"
   ]
  },
  {
   "cell_type": "code",
   "execution_count": 92,
   "id": "9ea22b23-ce6a-438d-b5ee-8eb5157f3a60",
   "metadata": {
    "tags": []
   },
   "outputs": [
    {
     "name": "stdout",
     "output_type": "stream",
     "text": [
      " actor_id | first_name |  last_name  | film_id \n",
      "----------+------------+-------------+---------\n",
      "      174 | MICHAEL    | BENING      |      11\n",
      "       81 | SCARLETT   | DAMON       |      11\n",
      "       40 | JOHNNY     | CAGE        |      11\n",
      "       90 | SEAN       | GUINESS     |      11\n",
      "      146 | ALBERT     | JOHANSSON   |      12\n",
      "      180 | JEFF       | SILVERSTONE |      12\n",
      "       37 | VAL        | BOLGER      |      12\n",
      "       75 | BURT       | POSEY       |      12\n",
      "      109 | SYLVESTER  | DERN        |      12\n",
      "      105 | SIDNEY     | CROWE       |      12\n",
      "(10 rows)\n",
      "\n"
     ]
    }
   ],
   "source": [
    "!psql -c \"SELECT DISTINCT a.actor_id, a.first_name, a.last_name, f.film_id FROM pagila.actor a INNER JOIN pagila.film_actor f ON a.actor_id = f.actor_id WHERE f.film_id > 10 ORDER BY f.film_id ASC LIMIT 10\""
   ]
  },
  {
   "cell_type": "code",
   "execution_count": 100,
   "id": "9f5b7c77-e7e4-4acc-9d9f-cf7fe937082e",
   "metadata": {},
   "outputs": [
    {
     "name": "stdout",
     "output_type": "stream",
     "text": [
      " store_id | manager_staff_id | customer_id |                email                \n",
      "----------+------------------+-------------+-------------------------------------\n",
      "        1 |                1 |           1 | MARY.SMITH@sakilacustomer.org\n",
      "        1 |                1 |           2 | PATRICIA.JOHNSON@sakilacustomer.org\n",
      "        1 |                1 |           3 | LINDA.WILLIAMS@sakilacustomer.org\n",
      "        1 |                1 |           5 | ELIZABETH.BROWN@sakilacustomer.org\n",
      "        1 |                1 |           7 | MARIA.MILLER@sakilacustomer.org\n",
      "        1 |                1 |          10 | DOROTHY.TAYLOR@sakilacustomer.org\n",
      "        1 |                1 |          12 | NANCY.THOMAS@sakilacustomer.org\n",
      "        1 |                1 |          15 | HELEN.HARRIS@sakilacustomer.org\n",
      "        1 |                1 |          17 | DONNA.THOMPSON@sakilacustomer.org\n",
      "        1 |                1 |          19 | RUTH.MARTINEZ@sakilacustomer.org\n",
      "(10 rows)\n",
      "\n"
     ]
    }
   ],
   "source": [
    "# The store and customer dataframes are full outer joined\n",
    "!psql -c \"SELECT s.store_id, s.manager_staff_id, c.customer_id, c.email FROM pagila.store s FULL OUTER JOIN pagila.customer c ON s.store_id = c.store_id WHERE s.store_id < 5 LIMIT 10;\""
   ]
  },
  {
   "cell_type": "markdown",
   "id": "25765bfe-af63-4082-bc17-7b2b0e52b1c8",
   "metadata": {},
   "source": [
    "The store and customer dataframes are full outer joined. The columns that are used are store_id, manager_staff_id, customer_id, and email. The store ids that are less than 5 are selected."
   ]
  },
  {
   "cell_type": "code",
   "execution_count": 112,
   "id": "94bacde3-caf6-4a25-a46d-aff17ce318c2",
   "metadata": {
    "tags": []
   },
   "outputs": [
    {
     "name": "stdout",
     "output_type": "stream",
     "text": [
      " film_id |      title       | release_year |      last_update       | inventory_id \n",
      "---------+------------------+--------------+------------------------+--------------\n",
      "       1 | ACADEMY DINOSAUR |         2006 | 2017-02-15 10:09:17+00 |            1\n",
      "       1 | ACADEMY DINOSAUR |         2006 | 2017-02-15 10:09:17+00 |            2\n",
      "       1 | ACADEMY DINOSAUR |         2006 | 2017-02-15 10:09:17+00 |            3\n",
      "       1 | ACADEMY DINOSAUR |         2006 | 2017-02-15 10:09:17+00 |            4\n",
      "       1 | ACADEMY DINOSAUR |         2006 | 2017-02-15 10:09:17+00 |            5\n",
      "       1 | ACADEMY DINOSAUR |         2006 | 2017-02-15 10:09:17+00 |            6\n",
      "       1 | ACADEMY DINOSAUR |         2006 | 2017-02-15 10:09:17+00 |            7\n",
      "       1 | ACADEMY DINOSAUR |         2006 | 2017-02-15 10:09:17+00 |            8\n",
      "       2 | ACE GOLDFINGER   |         2006 | 2017-02-15 10:09:17+00 |            9\n",
      "       2 | ACE GOLDFINGER   |         2006 | 2017-02-15 10:09:17+00 |           10\n",
      "(10 rows)\n",
      "\n"
     ]
    }
   ],
   "source": [
    "!psql -c \"SELECT f.film_id, f.title, f.release_year, i.last_update, i.inventory_id FROM pagila.film f LEFT OUTER JOIN pagila.inventory i ON f.film_id = i.film_id WHERE f.release_year = 2006 LIMIT 10\" "
   ]
  },
  {
   "cell_type": "markdown",
   "id": "77bf7e5f-fea6-4aad-af7b-14415c87c840",
   "metadata": {},
   "source": [
    "The film and inventory dataframes are left outer joined. The columns selected are film id, title, release year, last update, and inventory id. The release year of 2006 is filtered."
   ]
  },
  {
   "cell_type": "code",
   "execution_count": 116,
   "id": "3ef9613e-c765-4f9f-bbee-09463e0eb478",
   "metadata": {
    "tags": []
   },
   "outputs": [
    {
     "name": "stdout",
     "output_type": "stream",
     "text": [
      " rental_id |      rental_date       | amount |         payment_date          \n",
      "-----------+------------------------+--------+-------------------------------\n",
      "       860 | 2005-05-30 02:45:16+00 |  10.99 | 2017-01-30 01:13:42.996577+00\n",
      "       135 | 2005-05-25 21:58:58+00 |  10.99 | 2017-01-25 20:27:24.996577+00\n",
      "       691 | 2005-05-29 01:01:26+00 |  10.99 | 2017-01-28 23:29:52.996577+00\n",
      "       163 | 2005-05-26 02:26:23+00 |  10.99 | 2017-01-26 00:54:49.996577+00\n",
      "       106 | 2005-05-25 18:18:19+00 |  11.99 | 2017-01-25 16:46:45.996577+00\n",
      "      2784 | 2005-06-19 18:40:29+00 |  10.99 | 2017-02-19 17:08:55.996577+00\n",
      "      2166 | 2005-06-17 23:51:21+00 |  11.99 | 2017-02-17 22:19:47.996577+00\n",
      "      2306 | 2005-06-18 08:33:23+00 |  10.99 | 2017-02-18 07:01:49.996577+00\n",
      "      2966 | 2005-06-20 07:39:33+00 |  10.99 | 2017-02-20 06:07:59.996577+00\n",
      "      1718 | 2005-06-16 14:52:02+00 |  10.99 | 2017-02-16 13:20:28.996577+00\n",
      "(10 rows)\n",
      "\n"
     ]
    }
   ],
   "source": [
    "!psql -c \"SELECT r.rental_id, r.rental_date, p.amount, p.payment_date FROM pagila.rental r RIGHT OUTER JOIN pagila.payment p ON p.rental_id = r.rental_id WHERE p.amount > 10 LIMIT 10;\""
   ]
  },
  {
   "cell_type": "markdown",
   "id": "d1f6c12d-834b-4a4a-a6bd-412130c73cd4",
   "metadata": {},
   "source": [
    "The rental and payments dataframes are right outer joined. The rental id, rental date, amount, and payment date are selected. The amount that is greater than 10 is filtered"
   ]
  },
  {
   "cell_type": "code",
   "execution_count": 120,
   "id": "d8a192cf-643e-4fe9-a14c-19d0ffafeeac",
   "metadata": {
    "tags": []
   },
   "outputs": [
    {
     "name": "stdout",
     "output_type": "stream",
     "text": [
      "         title          | rating |          title          \n",
      "------------------------+--------+-------------------------\n",
      " AGENT TRUMAN           | PG     | STOCK GLASS\n",
      " DINOSAUR SECRETARY     | R      | DATE SPEED\n",
      " CONFIDENTIAL INTERVIEW | NC-17  | ISLAND EXORCIST\n",
      " BOOGIE AMELIE          | R      | TROOPERS METAL\n",
      " DIRTY ACE              | NC-17  | ALIEN CENTER\n",
      " BRIDE INTRIGUE         | G      | DESPERATE TRAINSPOTTING\n",
      " BLUES INSTINCT         | G      | BUGSY SONG\n",
      " EFFECT GLADIATOR       | PG     | STAGE WORLD\n",
      " COWBOY DOOM            | PG     | FERRIS MOTHER\n",
      " ARGONAUTS TOWN         | PG-13  | ROSES TREASURE\n",
      "(10 rows)\n",
      "\n"
     ]
    }
   ],
   "source": [
    "!psql -c \"SELECT DISTINCT f1.title, f1.rating, f2.title FROM pagila.film f1 JOIN pagila.film f2 ON f1.film_id != f2.film_id AND f1.rating = f2.rating LIMIT 10\""
   ]
  },
  {
   "cell_type": "markdown",
   "id": "69239055-f88c-451b-9784-5afdfcb66a53",
   "metadata": {},
   "source": [
    "The film dataframe is joined with itself. The movies with the same ratings are paired together."
   ]
  }
 ],
 "metadata": {
  "environment": {
   "kernel": "conda-root-py",
   "name": "workbench-notebooks.m115",
   "type": "gcloud",
   "uri": "gcr.io/deeplearning-platform-release/workbench-notebooks:m115"
  },
  "kernelspec": {
   "display_name": "Python 3 (ipykernel) (Local)",
   "language": "python",
   "name": "conda-root-py"
  },
  "language_info": {
   "codemirror_mode": {
    "name": "ipython",
    "version": 3
   },
   "file_extension": ".py",
   "mimetype": "text/x-python",
   "name": "python",
   "nbconvert_exporter": "python",
   "pygments_lexer": "ipython3",
   "version": "3.10.13"
  },
  "toc-autonumbering": true
 },
 "nbformat": 4,
 "nbformat_minor": 5
}
